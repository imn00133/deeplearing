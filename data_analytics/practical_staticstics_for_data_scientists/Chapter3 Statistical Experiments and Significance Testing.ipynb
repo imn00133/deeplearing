{
 "cells": [
  {
   "cell_type": "code",
   "execution_count": 11,
   "metadata": {},
   "outputs": [],
   "source": [
    "session_times <- read.csv(file=\"./train_data/web_page_data.csv\")\n",
    "session_times[,2] <- session_times[,2] * 100"
   ]
  },
  {
   "cell_type": "code",
   "execution_count": 12,
   "metadata": {},
   "outputs": [],
   "source": [
    "library(repr)\n",
    "options(repr.plot.width=6, repr.plot.height=4)"
   ]
  },
  {
   "cell_type": "code",
   "execution_count": 13,
   "metadata": {},
   "outputs": [
    {
     "data": {
      "image/png": "[encoded data removed]",
      "text/plain": [
       "plot without title"
      ]
     },
     "metadata": {},
     "output_type": "display_data"
    }
   ],
   "source": [
    "library(ggplot2)\n",
    "ggplot(session_times, aes(x=Page, y=Time)) +\n",
    "    geom_boxplot()"
   ]
  },
  {
   "cell_type": "code",
   "execution_count": 14,
   "metadata": {},
   "outputs": [
    {
     "data": {
      "text/html": [
       "35.6666666666667"
      ],
      "text/latex": [
       "35.6666666666667"
      ],
      "text/markdown": [
       "35.6666666666667"
      ],
      "text/plain": [
       "[1] 35.66667"
      ]
     },
     "metadata": {},
     "output_type": "display_data"
    }
   ],
   "source": [
    "mean_a <- mean(session_times[session_times['Page'] == 'Page A', 'Time'])\n",
    "mean_b <- mean(session_times[session_times['Page'] == 'Page B', 'Time'])\n",
    "mean_b - mean_a"
   ]
  },
  {
   "cell_type": "code",
   "execution_count": 15,
   "metadata": {},
   "outputs": [],
   "source": [
    "perm_fun <- function(x, n1, n2){\n",
    "    n <- n1 + n2\n",
    "    idx_b <- sample(1:n, n1)\n",
    "    idx_a <- setdiff(1:n, idx_b)\n",
    "    mean_diff <- mean(x[idx_b]) - mean(x[idx_a])\n",
    "    return(mean_diff)\n",
    "}"
   ]
  },
  {
   "cell_type": "code",
   "execution_count": 16,
   "metadata": {},
   "outputs": [
    {
     "data": {
      "image/png": "[encoded data removed]",
      "text/plain": [
       "Plot with title \"Histogram of perm_diffs\""
      ]
     },
     "metadata": {},
     "output_type": "display_data"
    }
   ],
   "source": [
    "perm_diffs <- rep(0, 1000)\n",
    "for(i in 1:1000)\n",
    "    perm_diffs[i] = perm_fun(session_times[, 'Time'], 21, 15)\n",
    "hist(perm_diffs, xlab='Session time differences (in seconds)')\n",
    "abline(v = mean_b - mean_a)"
   ]
  },
  {
   "cell_type": "code",
   "execution_count": 20,
   "metadata": {},
   "outputs": [
    {
     "data": {
      "image/png": "[encoded data removed]",
      "text/plain": [
       "Plot with title \"\""
      ]
     },
     "metadata": {},
     "output_type": "display_data"
    }
   ],
   "source": [
    "obs_pct_diff <- 100 * (200 / 23739 - 182/22588)\n",
    "conversion <- c(rep(0, 45945), rep(1, 382))\n",
    "perm_diffs <- rep(0, 1000)\n",
    "for(i in 1:1000)\n",
    "    perm_diffs[i] = 100 * perm_fun(conversion, 23739, 22588)\n",
    "hist(perm_diffs, xlab='Conversion rate (percent)', main='')\n",
    "abline(v=obs_pct_diff, lty=2, lwd=1.5)\n",
    "text(\"  Observed\\n  differences\", x=obs_pct_diff, y=par()$usr[4]-20, adj=0)"
   ]
  },
  {
   "cell_type": "code",
   "execution_count": 22,
   "metadata": {},
   "outputs": [
    {
     "data": {
      "text/html": [
       "0.33"
      ],
      "text/latex": [
       "0.33"
      ],
      "text/markdown": [
       "0.33"
      ],
      "text/plain": [
       "[1] 0.33"
      ]
     },
     "metadata": {},
     "output_type": "display_data"
    }
   ],
   "source": [
    "mean(perm_diffs > obs_pct_diff)"
   ]
  },
  {
   "cell_type": "code",
   "execution_count": 24,
   "metadata": {},
   "outputs": [
    {
     "data": {
      "text/plain": [
       "\n",
       "\t2-sample test for equality of proportions with continuity correction\n",
       "\n",
       "data:  c(200, 182) out of c(23739, 22588)\n",
       "X-squared = 0.14893, df = 1, p-value = 0.3498\n",
       "alternative hypothesis: greater\n",
       "95 percent confidence interval:\n",
       " -0.001057439  1.000000000\n",
       "sample estimates:\n",
       "     prop 1      prop 2 \n",
       "0.008424955 0.008057376 \n"
      ]
     },
     "metadata": {},
     "output_type": "display_data"
    }
   ],
   "source": [
    "prop.test(x=c(200, 182), n=c(23739, 22588), alternative=\"greater\")"
   ]
  },
  {
   "cell_type": "code",
   "execution_count": 25,
   "metadata": {},
   "outputs": [
    {
     "data": {
      "text/plain": [
       "\n",
       "\tWelch Two Sample t-test\n",
       "\n",
       "data:  Time by Page\n",
       "t = -1.0983, df = 27.693, p-value = 0.2815\n",
       "alternative hypothesis: true difference in means is not equal to 0\n",
       "95 percent confidence interval:\n",
       " -102.21978   30.88644\n",
       "sample estimates:\n",
       "mean in group Page A mean in group Page B \n",
       "            126.3333             162.0000 \n"
      ]
     },
     "metadata": {},
     "output_type": "display_data"
    }
   ],
   "source": [
    "t.test(Time ~ Page, data=session_times, alternatvie='less')"
   ]
  },
  {
   "cell_type": "code",
   "execution_count": null,
   "metadata": {},
   "outputs": [],
   "source": []
  }
 ],
 "metadata": {
  "kernelspec": {
   "display_name": "R",
   "language": "R",
   "name": "ir"
  },
  "language_info": {
   "codemirror_mode": "r",
   "file_extension": ".r",
   "mimetype": "text/x-r-source",
   "name": "R",
   "pygments_lexer": "r",
   "version": "3.6.1"
  }
 },
 "nbformat": 4,
 "nbformat_minor": 4
}
